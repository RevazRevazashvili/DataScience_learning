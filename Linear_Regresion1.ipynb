{
  "nbformat": 4,
  "nbformat_minor": 0,
  "metadata": {
    "colab": {
      "provenance": [],
      "authorship_tag": "ABX9TyN4K8nwGGyPTpFOPeFJiIEL",
      "include_colab_link": true
    },
    "kernelspec": {
      "name": "python3",
      "display_name": "Python 3"
    },
    "language_info": {
      "name": "python"
    }
  },
  "cells": [
    {
      "cell_type": "markdown",
      "metadata": {
        "id": "view-in-github",
        "colab_type": "text"
      },
      "source": [
        "<a href=\"https://colab.research.google.com/github/revaza05/DataScience_learning/blob/master/Linear_Regresion1.ipynb\" target=\"_parent\"><img src=\"https://colab.research.google.com/assets/colab-badge.svg\" alt=\"Open In Colab\"/></a>"
      ]
    },
    {
      "cell_type": "code",
      "execution_count": 2,
      "metadata": {
        "id": "YSHO6g5NNP1a"
      },
      "outputs": [],
      "source": [
        "import numpy as np"
      ]
    },
    {
      "cell_type": "code",
      "source": [
        "import matplotlib.pyplot as plt"
      ],
      "metadata": {
        "id": "q6RQeUVrNdqb"
      },
      "execution_count": 3,
      "outputs": []
    },
    {
      "cell_type": "code",
      "source": [
        "# load data from sequence_for_L_Regresion.csv file\n",
        "data = np.genfromtxt('sequence_for_L_Regresion.csv').reshape(2,50)"
      ],
      "metadata": {
        "id": "1OQAKuTUNikV"
      },
      "execution_count": 5,
      "outputs": []
    },
    {
      "cell_type": "code",
      "source": [
        "# define x and y and give them values\n",
        "x = data[0,:]\n",
        "y = data[1,:]"
      ],
      "metadata": {
        "id": "vQ1vswiLTppr"
      },
      "execution_count": 6,
      "outputs": []
    },
    {
      "cell_type": "code",
      "source": [
        "plt.scatter(x,y)\n",
        "plt.show()"
      ],
      "metadata": {
        "colab": {
          "base_uri": "https://localhost:8080/",
          "height": 430
        },
        "id": "07MSFawVUC7N",
        "outputId": "45b77192-8625-498c-c3a7-7f9d4c423bfe"
      },
      "execution_count": 7,
      "outputs": [
        {
          "output_type": "display_data",
          "data": {
            "text/plain": [
              "<Figure size 640x480 with 1 Axes>"
            ],
            "image/png": "[encoded data removed]"
          },
          "metadata": {}
        }
      ]
    },
    {
      "cell_type": "code",
      "source": [
        "# generating regresion coeficients\n",
        "poly_1 = np.polyfit(x,y,1)\n",
        "poly_1  # this array represents coeficients"
      ],
      "metadata": {
        "colab": {
          "base_uri": "https://localhost:8080/"
        },
        "id": "2EmAV537VfWp",
        "outputId": "2da1e78b-7d15-4a74-ee29-dcd6d5992af5"
      },
      "execution_count": 8,
      "outputs": [
        {
          "output_type": "execute_result",
          "data": {
            "text/plain": [
              "array([-0.11787609,  6.66266202])"
            ]
          },
          "metadata": {},
          "execution_count": 8
        }
      ]
    },
    {
      "cell_type": "code",
      "source": [
        "poly_1 = np.poly1d(poly_1)\n",
        "poly_1.c"
      ],
      "metadata": {
        "colab": {
          "base_uri": "https://localhost:8080/"
        },
        "id": "pzWWCzbZWR8Y",
        "outputId": "3f48fc08-257a-42a7-9e49-8cbc199e999f"
      },
      "execution_count": 9,
      "outputs": [
        {
          "output_type": "execute_result",
          "data": {
            "text/plain": [
              "array([-0.11787609,  6.66266202])"
            ]
          },
          "metadata": {},
          "execution_count": 9
        }
      ]
    },
    {
      "cell_type": "code",
      "source": [
        "yhat_1 = poly_1(x)"
      ],
      "metadata": {
        "id": "MR5kySeeW1GE"
      },
      "execution_count": 10,
      "outputs": []
    },
    {
      "cell_type": "code",
      "source": [],
      "metadata": {
        "id": "9O_vrhQp3ckl"
      },
      "execution_count": null,
      "outputs": []
    },
    {
      "cell_type": "code",
      "source": [
        "plt.scatter(x,y)\n",
        "\n",
        "plt.scatter(x,yhat_1)\n",
        "\n",
        "plt.show()"
      ],
      "metadata": {
        "colab": {
          "base_uri": "https://localhost:8080/",
          "height": 430
        },
        "id": "s9vsvhKZXDwS",
        "outputId": "de60b844-6d58-44fa-f7da-31d77848effb"
      },
      "execution_count": 11,
      "outputs": [
        {
          "output_type": "display_data",
          "data": {
            "text/plain": [
              "<Figure size 640x480 with 1 Axes>"
            ],
            "image/png": "[encoded data removed]"
          },
          "metadata": {}
        }
      ]
    },
    {
      "cell_type": "code",
      "source": [
        "\n",
        "\n",
        "# Residuals\n",
        "\n"
      ],
      "metadata": {
        "id": "AnCSpC7r_gHV"
      },
      "execution_count": null,
      "outputs": []
    },
    {
      "cell_type": "code",
      "source": [
        "# RSS\n",
        "# for coeficient optimisation B0, B1\n",
        "rss = round(np.power(y-yhat_1,2).sum(),3)  # მიღებული ჯამი გამოხატავს ცდომილბას, თუ ეს რიცხვი პატარაა ე.ი. კარგი მოდელი ააგო"
      ],
      "metadata": {
        "id": "J1l-ZmYf8un4"
      },
      "execution_count": 12,
      "outputs": []
    },
    {
      "cell_type": "code",
      "source": [
        "# MSS\n",
        "# for coeficient optimisation B0, B1\n",
        "mss = round(np.power(y-yhat_1,2).mean(),3)\n",
        "mss"
      ],
      "metadata": {
        "colab": {
          "base_uri": "https://localhost:8080/"
        },
        "id": "WWkQAerD-BRs",
        "outputId": "6689f077-f68f-4e4b-f0df-b87a75698650"
      },
      "execution_count": 31,
      "outputs": [
        {
          "output_type": "execute_result",
          "data": {
            "text/plain": [
              "6.745"
            ]
          },
          "metadata": {},
          "execution_count": 31
        }
      ]
    },
    {
      "cell_type": "code",
      "source": [
        "# TSS\n",
        "# for coeficient optimisation B0, B1\n",
        "tss = round(np.power(y-y.mean(),2).sum(),3)"
      ],
      "metadata": {
        "id": "YhM3ZdQh-YPI"
      },
      "execution_count": 14,
      "outputs": []
    },
    {
      "cell_type": "code",
      "source": [
        "# R2\n",
        "1-(rss/tss)"
      ],
      "metadata": {
        "colab": {
          "base_uri": "https://localhost:8080/"
        },
        "id": "5aj1qnIS-36E",
        "outputId": "6f09cc8e-5583-4816-b272-284cc1b7682f"
      },
      "execution_count": 15,
      "outputs": [
        {
          "output_type": "execute_result",
          "data": {
            "text/plain": [
              "0.014611698708584031"
            ]
          },
          "metadata": {},
          "execution_count": 15
        }
      ]
    },
    {
      "cell_type": "code",
      "source": [
        "# Train-Test Split\n",
        "# by it we want to split our data into train data and test data\n",
        "# in this case we splitted our data: 80 percent as train data and 20 percent as test data"
      ],
      "metadata": {
        "id": "W7HEzbbF0Mh4"
      },
      "execution_count": 1,
      "outputs": []
    },
    {
      "cell_type": "code",
      "source": [
        "train_test_ratio = 0.80  # percentage"
      ],
      "metadata": {
        "id": "qAJjoa8a0TCe"
      },
      "execution_count": 16,
      "outputs": []
    },
    {
      "cell_type": "code",
      "source": [
        "train_cnt = round(train_test_ratio*x.shape[0])\n",
        "train_cnt"
      ],
      "metadata": {
        "colab": {
          "base_uri": "https://localhost:8080/"
        },
        "id": "jgUSdLBv1CN-",
        "outputId": "033b6330-2551-4129-c953-86f76335581b"
      },
      "execution_count": 17,
      "outputs": [
        {
          "output_type": "execute_result",
          "data": {
            "text/plain": [
              "40"
            ]
          },
          "metadata": {},
          "execution_count": 17
        }
      ]
    },
    {
      "cell_type": "code",
      "source": [
        "train_x, test_x = x[:train_cnt], x[train_cnt:]\n",
        "train_y, test_y = y[:train_cnt], y[train_cnt:]"
      ],
      "metadata": {
        "id": "SO0qbq-32K4D"
      },
      "execution_count": 19,
      "outputs": []
    },
    {
      "cell_type": "code",
      "source": [
        "poly_1 = np.polyfit(train_x, train_y,1)\n",
        "poly_1"
      ],
      "metadata": {
        "colab": {
          "base_uri": "https://localhost:8080/"
        },
        "id": "H3auA4KQ2oMc",
        "outputId": "71dfe24b-4aa0-4f32-e8f8-bf836446a2c3"
      },
      "execution_count": 21,
      "outputs": [
        {
          "output_type": "execute_result",
          "data": {
            "text/plain": [
              "array([-0.15107878,  6.8559771 ])"
            ]
          },
          "metadata": {},
          "execution_count": 21
        }
      ]
    },
    {
      "cell_type": "code",
      "source": [
        "poly_1 = np.poly1d(poly_1)\n",
        "poly_1"
      ],
      "metadata": {
        "colab": {
          "base_uri": "https://localhost:8080/"
        },
        "id": "4IOVW4Kj3GT8",
        "outputId": "193a253c-3f27-472e-e8cd-faed16f32fbf"
      },
      "execution_count": 24,
      "outputs": [
        {
          "output_type": "execute_result",
          "data": {
            "text/plain": [
              "poly1d([-0.15107878,  6.8559771 ])"
            ]
          },
          "metadata": {},
          "execution_count": 24
        }
      ]
    },
    {
      "cell_type": "code",
      "source": [
        "test_yhat_1 = poly_1(test_x)"
      ],
      "metadata": {
        "colab": {
          "base_uri": "https://localhost:8080/"
        },
        "id": "6BBEbgHa3eDJ",
        "outputId": "2503fa0c-bb76-401e-9ceb-cd9b9b601395"
      },
      "execution_count": 26,
      "outputs": [
        {
          "output_type": "execute_result",
          "data": {
            "text/plain": [
              "array([6.30154018, 6.6011223 , 6.65870084, 5.90717274, 5.51399052,\n",
              "       6.16877683, 5.99828307, 6.53568993, 5.61513459, 5.84952033])"
            ]
          },
          "metadata": {},
          "execution_count": 26
        }
      ]
    },
    {
      "cell_type": "code",
      "source": [
        "plt.scatter(x,y)\n",
        "\n",
        "plt.plot(train_x,poly_1(train_x))\n",
        "\n",
        "plt.plot(test_x, test_yhat_1)\n",
        "\n",
        "plt.show()"
      ],
      "metadata": {
        "colab": {
          "base_uri": "https://localhost:8080/",
          "height": 430
        },
        "id": "PSfEr-O84CuN",
        "outputId": "04328ff2-f35d-4a05-daa2-cd4cb6edf0bf"
      },
      "execution_count": 28,
      "outputs": [
        {
          "output_type": "display_data",
          "data": {
            "text/plain": [
              "<Figure size 640x480 with 1 Axes>"
            ],
            "image/png": "[encoded data removed]"
          },
          "metadata": {}
        }
      ]
    },
    {
      "cell_type": "code",
      "source": [
        "mss = round(np.power(test_y-test_yhat_1,2).mean(),3)\n",
        "mss"
      ],
      "metadata": {
        "colab": {
          "base_uri": "https://localhost:8080/"
        },
        "id": "1AlE66Jw9eiw",
        "outputId": "bdfbee74-6fd6-4d63-d372-fcce209a9366"
      },
      "execution_count": 29,
      "outputs": [
        {
          "output_type": "execute_result",
          "data": {
            "text/plain": [
              "7.118"
            ]
          },
          "metadata": {},
          "execution_count": 29
        }
      ]
    },
    {
      "cell_type": "code",
      "source": [
        "# Random Sampling v1\n",
        "# by it we want to split our data into train data and test data\n",
        "# this time we split data randomly"
      ],
      "metadata": {
        "id": "sqcBIwmu96yi"
      },
      "execution_count": 36,
      "outputs": []
    },
    {
      "cell_type": "code",
      "source": [
        "np.random.seed(42)\n",
        "\n",
        "train_ids = np.random.choice(range(x.shape[0]), size = train_cnt, replace=False)\n",
        "\n",
        "test_ids = np.setdiff1d(range(x.shape[0]),train_ids)\n",
        "\n",
        "train_ids, test_ids"
      ],
      "metadata": {
        "colab": {
          "base_uri": "https://localhost:8080/"
        },
        "id": "3ufsH9Z2-P-6",
        "outputId": "dceeabab-2d5b-46f4-abfc-a52bf56bb0c3"
      },
      "execution_count": 38,
      "outputs": [
        {
          "output_type": "execute_result",
          "data": {
            "text/plain": [
              "(array([13, 39, 30, 45, 17, 48, 26, 25, 32, 19, 12,  4, 37,  8,  3,  6, 41,\n",
              "        46, 47, 15,  9, 16, 24, 34, 31,  0, 44, 27, 33,  5, 29, 11, 36,  1,\n",
              "        21,  2, 43, 35, 23, 40]),\n",
              " array([ 7, 10, 14, 18, 20, 22, 28, 38, 42, 49]))"
            ]
          },
          "metadata": {},
          "execution_count": 38
        }
      ]
    },
    {
      "cell_type": "code",
      "source": [
        "train_x, train_y = x[train_ids], y[train_ids]\n",
        "test_x, test_y = x[test_ids], y[test_ids]"
      ],
      "metadata": {
        "id": "tg8J_Ae4_wRq"
      },
      "execution_count": 39,
      "outputs": []
    },
    {
      "cell_type": "code",
      "source": [
        "poly_1 = np.polyfit(train_x, train_y,1)\n",
        "poly_1"
      ],
      "metadata": {
        "colab": {
          "base_uri": "https://localhost:8080/"
        },
        "id": "6H_wHSQ0AKsC",
        "outputId": "0d961f1b-59f9-4a9d-e5f3-0276efc96759"
      },
      "execution_count": 40,
      "outputs": [
        {
          "output_type": "execute_result",
          "data": {
            "text/plain": [
              "array([-0.09874178,  6.44660816])"
            ]
          },
          "metadata": {},
          "execution_count": 40
        }
      ]
    },
    {
      "cell_type": "code",
      "source": [
        "poly_1 = np.poly1d(poly_1)\n",
        "poly_1"
      ],
      "metadata": {
        "colab": {
          "base_uri": "https://localhost:8080/"
        },
        "id": "BHS0tRlZASRz",
        "outputId": "2c0f09bc-e8cd-468d-f8f3-bc29f9e7fa9e"
      },
      "execution_count": 41,
      "outputs": [
        {
          "output_type": "execute_result",
          "data": {
            "text/plain": [
              "poly1d([-0.09874178,  6.44660816])"
            ]
          },
          "metadata": {},
          "execution_count": 41
        }
      ]
    },
    {
      "cell_type": "code",
      "source": [
        "test_yhat_1 = poly_1(test_x)"
      ],
      "metadata": {
        "id": "IujvRjNIAVHL"
      },
      "execution_count": 42,
      "outputs": []
    },
    {
      "cell_type": "code",
      "source": [
        "plt.scatter(x,y)\n",
        "\n",
        "plt.scatter(train_x,poly_1(train_x))\n",
        "\n",
        "plt.scatter(test_x, test_yhat_1)\n",
        "\n",
        "plt.show()"
      ],
      "metadata": {
        "colab": {
          "base_uri": "https://localhost:8080/",
          "height": 430
        },
        "id": "UjHssY5gDQp4",
        "outputId": "f0ad20ca-8059-467a-eeda-484fead8ccf8"
      },
      "execution_count": 55,
      "outputs": [
        {
          "output_type": "display_data",
          "data": {
            "text/plain": [
              "<Figure size 640x480 with 1 Axes>"
            ],
            "image/png": "[encoded data removed]"
          },
          "metadata": {}
        }
      ]
    },
    {
      "cell_type": "code",
      "source": [
        "mss = round(np.power(test_y-test_yhat_1,2).mean(),3)\n",
        "mss"
      ],
      "metadata": {
        "colab": {
          "base_uri": "https://localhost:8080/"
        },
        "id": "0WSary9DDyxX",
        "outputId": "c2798b16-1bb9-4758-ced6-01239f4702fc"
      },
      "execution_count": 45,
      "outputs": [
        {
          "output_type": "execute_result",
          "data": {
            "text/plain": [
              "5.687"
            ]
          },
          "metadata": {},
          "execution_count": 45
        }
      ]
    },
    {
      "cell_type": "code",
      "source": [
        "# Random Sampling v2\n",
        "# by it we want to split our data into train data and test data\n",
        "# this time we split data randomly"
      ],
      "metadata": {
        "id": "ImRTqw8qEvVA"
      },
      "execution_count": null,
      "outputs": []
    },
    {
      "cell_type": "code",
      "source": [
        "np.random.seed(42)\n",
        "train_array = np.random.choice([0,1], size = x.shape[0], p=[train_test_ratio, 1-train_test_ratio])\n",
        "train_array"
      ],
      "metadata": {
        "colab": {
          "base_uri": "https://localhost:8080/"
        },
        "id": "itWA0Lo5E1ZM",
        "outputId": "92e7d4c6-18cc-456c-acd3-db7dc07876a9"
      },
      "execution_count": 46,
      "outputs": [
        {
          "output_type": "execute_result",
          "data": {
            "text/plain": [
              "array([0, 1, 0, 0, 0, 0, 0, 1, 0, 0, 0, 1, 1, 0, 0, 0, 0, 0, 0, 0, 0, 0,\n",
              "       0, 0, 0, 0, 0, 0, 0, 0, 0, 0, 0, 1, 1, 1, 0, 0, 0, 0, 0, 0, 0, 1,\n",
              "       0, 0, 0, 0, 0, 0])"
            ]
          },
          "metadata": {},
          "execution_count": 46
        }
      ]
    },
    {
      "cell_type": "code",
      "source": [
        "train_ids = np.arange(x.shape[0])[train_array==0]\n",
        "test_ids = np.arange(x.shape[0])[train_array==1]\n",
        "train_ids, test_ids"
      ],
      "metadata": {
        "colab": {
          "base_uri": "https://localhost:8080/"
        },
        "id": "-mIx-vF6FSLS",
        "outputId": "eafae044-4ed8-418f-f48a-d862908d64e5"
      },
      "execution_count": 47,
      "outputs": [
        {
          "output_type": "execute_result",
          "data": {
            "text/plain": [
              "(array([ 0,  2,  3,  4,  5,  6,  8,  9, 10, 13, 14, 15, 16, 17, 18, 19, 20,\n",
              "        21, 22, 23, 24, 25, 26, 27, 28, 29, 30, 31, 32, 36, 37, 38, 39, 40,\n",
              "        41, 42, 44, 45, 46, 47, 48, 49]),\n",
              " array([ 1,  7, 11, 12, 33, 34, 35, 43]))"
            ]
          },
          "metadata": {},
          "execution_count": 47
        }
      ]
    },
    {
      "cell_type": "code",
      "source": [
        "train_x, train_y = x[train_ids], y[train_ids]\n",
        "test_x, test_y = x[test_ids], y[test_ids]"
      ],
      "metadata": {
        "id": "nsD-Rlh-F61N"
      },
      "execution_count": 48,
      "outputs": []
    },
    {
      "cell_type": "code",
      "source": [
        "train_x.shape, test_x.shape"
      ],
      "metadata": {
        "colab": {
          "base_uri": "https://localhost:8080/"
        },
        "id": "F594gxMZF_mm",
        "outputId": "d96d90ce-ae4e-40fd-cfc6-59b83c4b8693"
      },
      "execution_count": 49,
      "outputs": [
        {
          "output_type": "execute_result",
          "data": {
            "text/plain": [
              "((42,), (8,))"
            ]
          },
          "metadata": {},
          "execution_count": 49
        }
      ]
    },
    {
      "cell_type": "code",
      "source": [
        "poly_1 = np.polyfit(train_x, train_y,1)\n",
        "poly_1"
      ],
      "metadata": {
        "colab": {
          "base_uri": "https://localhost:8080/"
        },
        "id": "FmaQGWhKH9j2",
        "outputId": "ddce60b2-b2b0-43f0-8eda-c4c0b2765dea"
      },
      "execution_count": 50,
      "outputs": [
        {
          "output_type": "execute_result",
          "data": {
            "text/plain": [
              "array([-0.06436946,  6.51747447])"
            ]
          },
          "metadata": {},
          "execution_count": 50
        }
      ]
    },
    {
      "cell_type": "code",
      "source": [
        "poly_1 = np.poly1d(poly_1)\n",
        "poly_1"
      ],
      "metadata": {
        "colab": {
          "base_uri": "https://localhost:8080/"
        },
        "id": "ePP02YgnIGDV",
        "outputId": "a769a51e-9e11-44e4-ba89-8de23fa6fbbc"
      },
      "execution_count": 51,
      "outputs": [
        {
          "output_type": "execute_result",
          "data": {
            "text/plain": [
              "poly1d([-0.06436946,  6.51747447])"
            ]
          },
          "metadata": {},
          "execution_count": 51
        }
      ]
    },
    {
      "cell_type": "code",
      "source": [
        "test_yhat_1 = poly_1(test_x)"
      ],
      "metadata": {
        "id": "UjmbwfPyIJ9A"
      },
      "execution_count": 52,
      "outputs": []
    },
    {
      "cell_type": "code",
      "source": [
        "plt.scatter(x,y)\n",
        "\n",
        "plt.scatter(train_x,poly_1(train_x))\n",
        "\n",
        "plt.scatter(test_x, test_yhat_1)\n",
        "\n",
        "plt.show()"
      ],
      "metadata": {
        "colab": {
          "base_uri": "https://localhost:8080/",
          "height": 430
        },
        "id": "BZgVpiPOIUOT",
        "outputId": "d6b19962-83a7-4c5d-8be6-a3f0b72949c7"
      },
      "execution_count": 54,
      "outputs": [
        {
          "output_type": "display_data",
          "data": {
            "text/plain": [
              "<Figure size 640x480 with 1 Axes>"
            ],
            "image/png": "[encoded data removed]"
          },
          "metadata": {}
        }
      ]
    },
    {
      "cell_type": "code",
      "source": [
        "mss = round(np.power(test_y-test_yhat_1,2).mean(),3)\n",
        "mss"
      ],
      "metadata": {
        "colab": {
          "base_uri": "https://localhost:8080/"
        },
        "id": "x0hBGdJuQFDr",
        "outputId": "3732ec80-e23d-4e00-c20e-b19567dc2b96"
      },
      "execution_count": 56,
      "outputs": [
        {
          "output_type": "execute_result",
          "data": {
            "text/plain": [
              "7.957"
            ]
          },
          "metadata": {},
          "execution_count": 56
        }
      ]
    },
    {
      "cell_type": "code",
      "source": [],
      "metadata": {
        "id": "tH3EmogfUfZz"
      },
      "execution_count": null,
      "outputs": []
    },
    {
      "cell_type": "code",
      "source": [
        "def reg_model(x,y,deg=1):\n",
        "  reg_poly = np.polyfit(x,y,deg)\n",
        "  reg_poly = np.poly1d(reg_poly)\n",
        "  return reg_poly\n",
        "\n",
        "\n",
        "poly_1 = reg_model(x,y)\n",
        "\n",
        "yhat_1 = poly_1(x)\n"
      ],
      "metadata": {
        "colab": {
          "base_uri": "https://localhost:8080/"
        },
        "id": "zmUmbubAUfpU",
        "outputId": "ce0c94cf-9d79-4d80-c016-d2a4077b677f"
      },
      "execution_count": 59,
      "outputs": [
        {
          "output_type": "execute_result",
          "data": {
            "text/plain": [
              "(poly1d([-0.11787609,  6.66266202]),\n",
              " array([5.77655255, 5.76809506, 6.13562634, 5.72525924, 5.73065219,\n",
              "        5.9680564 , 5.49895093, 5.74729735, 5.73795944, 5.73348581,\n",
              "        5.99171024, 5.64535917, 6.0430032 , 5.49042366, 5.86600824,\n",
              "        6.45417304, 5.75320789, 5.49880559, 6.02462384, 6.47579246,\n",
              "        6.45331585, 5.82191374, 5.66599031, 6.25494111, 6.53919247,\n",
              "        6.42066794, 5.89292796, 6.06505086, 6.51697235, 5.5581562 ,\n",
              "        5.99251628, 6.36536142, 6.00713492, 5.93889209, 6.07781755,\n",
              "        6.42577716, 6.16364679, 6.48566847, 6.32700289, 6.35514781,\n",
              "        6.23007409, 6.46381684, 6.5087413 , 5.92237706, 5.61560477,\n",
              "        6.12648823, 5.993464  , 6.41276458, 5.69452034, 5.87739495]))"
            ]
          },
          "metadata": {},
          "execution_count": 59
        }
      ]
    }
  ]
}