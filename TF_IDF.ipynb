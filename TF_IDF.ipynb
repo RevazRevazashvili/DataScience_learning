{
  "nbformat": 4,
  "nbformat_minor": 0,
  "metadata": {
    "colab": {
      "provenance": [],
      "authorship_tag": "ABX9TyOMI13xQgSXs1kDr2r84sgy",
      "include_colab_link": true
    },
    "kernelspec": {
      "name": "python3",
      "display_name": "Python 3"
    },
    "language_info": {
      "name": "python"
    }
  },
  "cells": [
    {
      "cell_type": "markdown",
      "metadata": {
        "id": "view-in-github",
        "colab_type": "text"
      },
      "source": [
        "<a href=\"https://colab.research.google.com/github/RevazRevazashvili/DataScience_learning/blob/main/TF_IDF.ipynb\" target=\"_parent\"><img src=\"https://colab.research.google.com/assets/colab-badge.svg\" alt=\"Open In Colab\"/></a>"
      ]
    },
    {
      "cell_type": "code",
      "source": [
        "import pandas as pd\n",
        "from collections import deque\n",
        "import re"
      ],
      "metadata": {
        "id": "YHoca3hoz_cb"
      },
      "execution_count": 2,
      "outputs": []
    },
    {
      "cell_type": "code",
      "source": [
        "def TFIDF(s,l):\n",
        "  pattern = re.compile(r'\\b[ა-ჰ][ა-ჰ]*\\b')\n",
        "  s = s.split()\n",
        "  for i in s:\n",
        "    if i not in l.keys():\n",
        "      if pattern.findall(i):\n",
        "        l[i]=0\n",
        "      else:\n",
        "        continue\n",
        "    else:\n",
        "      l[i]+=1\n",
        "  for key in l:\n",
        "    l[key] /= len(s)\n",
        "  l = dict(sorted(l.items(), key=lambda item: item[1]))\n",
        "  return l"
      ],
      "metadata": {
        "id": "6-3t2RSb6t25"
      },
      "execution_count": 47,
      "outputs": []
    },
    {
      "cell_type": "code",
      "source": [
        "s = 'საქართველოს სამეფო კარს კარგად ჰქონდა აწონ-დაწონილი სამხედრო რეფორმების გატარების დიდი მნიშვნელობა და გეგმაზომიერად, თანდათანობით შეუდგა ამ საქმეს. უპირველესად, საჭირო იყო ლაშქრის ორგანიზაციის მოწესრიგება. გიორგი II-ის დროიდან მოკიდებული, ფაქტობრივად, მოშლილი იყო ფეოდალური ლაშქარი, დაცემული იყო დისციპლინა. დავითმა შემოიკრიბა ერთგული მოლაშქრეები და მათგან მუდმივი, ძლიერი პირადი გვარდია —მონა-სპა შექმნა. ამასთან, საქართველოს მეფის მიერ ცალკეულ მხარეებში თავისი ერთგული, ღირსეული მოხელეები იქნენ დანიშნული და ბუნებრივია, მათ მიერ გამოყვანილი ლაშქარიც მეფის ერთგული იყო.დავითი ყოველმხრივ უწყობდა ხელს ლაშქრის გაზრდა-გამრავლებას, სათანადოდ შეიარაღებასა და საგანგებოდ გაწვრთნას. მან განსაკუთრებული მნიშვნელობა მიანიჭა დისციპლინის განმტკიცებას, ყოველივე ეს ობიექტური აუცილებლობით იყო გამოწვეული. დავითმა ჯარში მკაცრი სამხედრო დისციპლინა შემოიღო: „ხოლო საეშმაკონი სიმღერანი, სახიობანი და განცხრომანი, და გინება ღვთისა საძულველი და ყოველი უწესობა მოსპობილ იყო ლაშქართა შინა მისთა“, ე. ი. ამ ღონისძიების გატარებამდე ადგილი ჰქონდა არეულობასა და ყოველგვარ უწესობას.'\n",
        "words = {}\n",
        "result = TFIDF(s,words)\n",
        "result"
      ],
      "metadata": {
        "id": "0HEkPPjhGzDz"
      },
      "execution_count": null,
      "outputs": []
    }
  ]
}