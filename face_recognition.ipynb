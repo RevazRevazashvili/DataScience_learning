{
  "nbformat": 4,
  "nbformat_minor": 0,
  "metadata": {
    "colab": {
      "provenance": [],
      "authorship_tag": "ABX9TyO8jeEyw5TA/v+xFWU0pScI",
      "include_colab_link": true
    },
    "kernelspec": {
      "name": "python3",
      "display_name": "Python 3"
    },
    "language_info": {
      "name": "python"
    }
  },
  "cells": [
    {
      "cell_type": "markdown",
      "metadata": {
        "id": "view-in-github",
        "colab_type": "text"
      },
      "source": [
        "<a href=\"https://colab.research.google.com/github/RevazRevazashvili/DataScience_learning/blob/main/face_recognition.ipynb\" target=\"_parent\"><img src=\"https://colab.research.google.com/assets/colab-badge.svg\" alt=\"Open In Colab\"/></a>"
      ]
    },
    {
      "cell_type": "code",
      "execution_count": null,
      "metadata": {
        "id": "46Xq5dptV3gj"
      },
      "outputs": [],
      "source": [
        "!pip install opencv-python deepface"
      ]
    },
    {
      "cell_type": "code",
      "source": [
        "import threading\n",
        "\n",
        "import cv2\n",
        "\n",
        "from deepface import DeepFace"
      ],
      "metadata": {
        "id": "K4DbcKctV-II",
        "colab": {
          "base_uri": "https://localhost:8080/"
        },
        "outputId": "7621f496-7fa7-40b8-8d84-04acecbf2ea1"
      },
      "execution_count": null,
      "outputs": [
        {
          "output_type": "stream",
          "name": "stdout",
          "text": [
            "23-12-14 15:26:40 - Directory /root/.deepface created\n",
            "23-12-14 15:26:40 - Directory /root/.deepface/weights created\n"
          ]
        }
      ]
    },
    {
      "cell_type": "code",
      "source": [
        "cap = cv2.VideoCapture(0, cv2.CAP_DSHOW)\n",
        "\n",
        "cap.set(cv2.CAP_PROP_FRAME_WIDTH, 640)\n",
        "cap.set(cv2.CAP_PROP_FRAME_HEIGHT, 480)"
      ],
      "metadata": {
        "colab": {
          "base_uri": "https://localhost:8080/"
        },
        "id": "p-NJw58c8SQh",
        "outputId": "96004000-bb97-4acd-d524-6385b5640686"
      },
      "execution_count": null,
      "outputs": [
        {
          "output_type": "execute_result",
          "data": {
            "text/plain": [
              "False"
            ]
          },
          "metadata": {},
          "execution_count": 4
        }
      ]
    },
    {
      "cell_type": "code",
      "source": [
        "counter = 0"
      ],
      "metadata": {
        "id": "o8dD3ww28-_y"
      },
      "execution_count": null,
      "outputs": []
    },
    {
      "cell_type": "code",
      "source": [
        "face_match = False"
      ],
      "metadata": {
        "id": "73glPTO_9DBQ"
      },
      "execution_count": null,
      "outputs": []
    },
    {
      "cell_type": "code",
      "source": [
        "reference_img = cv2.imread(\"revaz.jpg\")"
      ],
      "metadata": {
        "id": "X07C-aja9Fgy"
      },
      "execution_count": null,
      "outputs": []
    },
    {
      "cell_type": "code",
      "source": [
        "def check_face(frame):\n",
        "  global face_match\n",
        "  try:\n",
        "    if DeepFace.verify(frame, reference_img.copy())['verified']:\n",
        "      face_match = True\n",
        "    else:\n",
        "      face_match = False\n",
        "  except ValueError:\n",
        "    face_match = False\n"
      ],
      "metadata": {
        "id": "z1UYgnqF9x8I"
      },
      "execution_count": null,
      "outputs": []
    },
    {
      "cell_type": "code",
      "source": [
        "while True:\n",
        "  ret, frame = cap.read()\n",
        "\n",
        "  if ret:\n",
        "    if counter % 30 == 0:\n",
        "      try:\n",
        "        threading.Thread(target=check_face, args=(frame.copy(),)).start()\n",
        "      except ValueError:\n",
        "        pass\n",
        "    counter += 1\n",
        "\n",
        "    if face_match:\n",
        "      cv2.putText(frame, \"MATCH\", (20,450), cv2.FONT_HERSHEY_SIMPLEX, 2, (0, 255, 0), 3)\n",
        "    else:\n",
        "      cv2.putText(frame, \"NO MATCH\", (20,450), cv2.FONT_HERSHEY_SIMPLEX, 2, (0, 0, 255), 3)\n",
        "\n",
        "    cv2.imshow(\"video\", frame)\n",
        "  key = cv2.waitKey(1)\n",
        "  if key == ord('q'):\n",
        "    break\n",
        "\n",
        "cv2.destroyAllWindows()\n"
      ],
      "metadata": {
        "id": "Vy4zzO0R9M6D"
      },
      "execution_count": null,
      "outputs": []
    },
    {
      "cell_type": "code",
      "source": [],
      "metadata": {
        "id": "SCXnuj-092Df"
      },
      "execution_count": null,
      "outputs": []
    }
  ]
}