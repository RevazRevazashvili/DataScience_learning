{
  "nbformat": 4,
  "nbformat_minor": 0,
  "metadata": {
    "colab": {
      "provenance": [],
      "authorship_tag": "ABX9TyPCvULvN8drY+nbd2NotFhD",
      "include_colab_link": true
    },
    "kernelspec": {
      "name": "python3",
      "display_name": "Python 3"
    },
    "language_info": {
      "name": "python"
    }
  },
  "cells": [
    {
      "cell_type": "markdown",
      "metadata": {
        "id": "view-in-github",
        "colab_type": "text"
      },
      "source": [
        "<a href=\"https://colab.research.google.com/github/RevazRevazashvili/DataScience_learning/blob/main/tf_idf.ipynb\" target=\"_parent\"><img src=\"https://colab.research.google.com/assets/colab-badge.svg\" alt=\"Open In Colab\"/></a>"
      ]
    },
    {
      "cell_type": "code",
      "source": [
        "import re\n",
        "import math"
      ],
      "metadata": {
        "id": "YHoca3hoz_cb"
      },
      "execution_count": 349,
      "outputs": []
    },
    {
      "cell_type": "code",
      "source": [
        "def tfidf(s,l):\n",
        "  sente = {}\n",
        "  pattern = re.compile(r'\\b[ა-ჰ][ა-ჰ]*\\b')\n",
        "  sentences = s.split('.')\n",
        "  special_characters = \"!.,\"\n",
        "  s = re.sub(rf\"([{re.escape(special_characters)}]+)(?=\\s|$)\", \"\", s)\n",
        "  words = s.split()\n",
        "  for i in words:\n",
        "    if i not in l.keys():\n",
        "      if pattern.findall(i):\n",
        "        l[i]=1\n",
        "        count = 1\n",
        "        for word in sentences:\n",
        "          if i in word:\n",
        "            count+=1\n",
        "          sente[i] = math.log((len(sentences)/count))\n",
        "      else:\n",
        "        continue\n",
        "    else:\n",
        "      l[i]+=1\n",
        "  for (key1, value1), (key2, value2) in zip(l.items(), sente.items()):\n",
        "    l[key1] = value1 * value2\n",
        "  l = dict(sorted(l.items(), key=lambda item: item[1]))\n",
        "  return l"
      ],
      "metadata": {
        "id": "6-3t2RSb6t25"
      },
      "execution_count": 363,
      "outputs": []
    },
    {
      "cell_type": "code",
      "source": [
        "s = 'ეკომატის წვეტიანი დავით აღმაშენებელი დავით აღმაშენებელი სამასაჟე  ელემენტები მოქმედებს. დავით დავით აღმაშენებელი ღრმად და აუმჯობესებს მუცლის. არეში სისხლის აღმაშენებელი მიმოქცევას, მონელებას და ნივთიერებათა ცვლას. დავით დავით აღმაშენებელმა ოცდათექვსმეტწლიანი მმართველობის აღმაშენებელი აღმაშენებელი განმავლობაში ჩაატარა სიღრმისეული რეფორმები, რომლებმაც საბოლოოდ დაასრულეს ფეოდალური. დავით აღმაშენებელი დავით აღმაშენებელი საქართველოს გაერთიანების პროცესი, მან ქვეყნიდან სელჩუკი დამპყრობლები განდევნა, საქართველო რეგიონის უძლიერეს სახელმწიფოდ აქცია და მემკვიდრეებისათვის გადააბარა ქვეყანა'\n",
        "q = {}\n",
        "t = tfidf(s,q)\n",
        "last_20_items = list(t.items())[-20:]\n",
        "\n",
        "for key, value in last_20_items:\n",
        "    print(f\"{key}: {value}\")"
      ],
      "metadata": {
        "colab": {
          "base_uri": "https://localhost:8080/"
        },
        "id": "x3vUdP-86ZG7",
        "outputId": "7f38cdac-3ce5-41e7-cf3a-39dac0521bfb"
      },
      "execution_count": 366,
      "outputs": [
        {
          "output_type": "stream",
          "name": "stdout",
          "text": [
            "რომლებმაც: 0.9162907318741551\n",
            "საბოლოოდ: 0.9162907318741551\n",
            "დაასრულეს: 0.9162907318741551\n",
            "ფეოდალური: 0.9162907318741551\n",
            "საქართველოს: 0.9162907318741551\n",
            "გაერთიანების: 0.9162907318741551\n",
            "პროცესი: 0.9162907318741551\n",
            "მან: 0.9162907318741551\n",
            "ქვეყნიდან: 0.9162907318741551\n",
            "სელჩუკი: 0.9162907318741551\n",
            "დამპყრობლები: 0.9162907318741551\n",
            "განდევნა: 0.9162907318741551\n",
            "საქართველო: 0.9162907318741551\n",
            "რეგიონის: 0.9162907318741551\n",
            "უძლიერეს: 0.9162907318741551\n",
            "სახელმწიფოდ: 0.9162907318741551\n",
            "აქცია: 0.9162907318741551\n",
            "მემკვიდრეებისათვის: 0.9162907318741551\n",
            "გადააბარა: 0.9162907318741551\n",
            "ქვეყანა: 0.9162907318741551\n"
          ]
        }
      ]
    },
    {
      "cell_type": "code",
      "source": [],
      "metadata": {
        "id": "NzJdYS4YEW2W"
      },
      "execution_count": 358,
      "outputs": []
    }
  ]
}